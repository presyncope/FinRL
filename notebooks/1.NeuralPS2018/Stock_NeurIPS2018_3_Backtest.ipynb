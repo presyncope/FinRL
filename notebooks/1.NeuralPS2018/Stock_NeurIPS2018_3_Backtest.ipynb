{
  "cells": [
    {
      "cell_type": "markdown",
      "metadata": {
        "id": "v7Cycmf3Zbok"
      },
      "source": [
        "# Stock NeurIPS2018 Part 3. Backtest\n",
        "This series is a reproduction of paper *the process in the paper Practical Deep Reinforcement Learning Approach for Stock Trading*. \n",
        "\n",
        "This is the third and last part of the NeurIPS2018 series, introducing how to use use the agents we trained to do backtest, and compare with baselines such as Mean Variance Optimization and DJIA index.\n",
        "\n",
        "Other demos can be found at the repo of [FinRL-Tutorials]((https://github.com/AI4Finance-Foundation/FinRL-Tutorials))."
      ]
    },
    {
      "cell_type": "markdown",
      "metadata": {
        "id": "1oWbj4HgqHBg"
      },
      "source": [
        "# Part 1. Install Packages"
      ]
    },
    {
      "cell_type": "code",
      "execution_count": 1,
      "metadata": {
        "id": "mqfBOKz-qJYF"
      },
      "outputs": [],
      "source": [
        "import sys\n",
        "import pandas as pd\n",
        "import numpy as np\n",
        "import matplotlib.pyplot as plt\n",
        "\n",
        "from finrl.meta.preprocessor.yahoodownloader import YahooDownloader\n",
        "from finrl.meta.env_stock_trading.env_stocktrading import StockTradingEnv\n",
        "from finrl.agents.stablebaselines3.models import DRLAgent\n",
        "from stable_baselines3 import A2C, DDPG, PPO, SAC, TD3\n",
        "\n",
        "%matplotlib inline\n",
        "from finrl.config import INDICATORS, TRAINED_MODEL_DIR"
      ]
    },
    {
      "cell_type": "markdown",
      "metadata": {
        "id": "mUF2P4hmqVjh"
      },
      "source": [
        "# Part 2. Backtesting"
      ]
    },
    {
      "cell_type": "markdown",
      "metadata": {
        "id": "BdU6qLsVWDxI"
      },
      "source": [
        "To backtest the agents, upload trade_data.csv in the same directory of this notebook. For Colab users, just upload trade_data.csv to the default directory."
      ]
    },
    {
      "cell_type": "code",
      "execution_count": 2,
      "metadata": {
        "id": "mSjBHn_MZr4U"
      },
      "outputs": [],
      "source": [
        "train = pd.read_csv('train_data.csv')\n",
        "trade = pd.read_csv('trade_data.csv')\n",
        "\n",
        "# If you are not using the data generated from part 1 of this tutorial, make sure \n",
        "# it has the columns and index in the form that could be make into the environment. \n",
        "# Then you can comment and skip the following lines.\n",
        "train = train.set_index(train.columns[0])\n",
        "train.index.names = ['']\n",
        "trade = trade.set_index(trade.columns[0])\n",
        "trade.index.names = ['']"
      ]
    },
    {
      "cell_type": "markdown",
      "metadata": {
        "id": "qu4Ey54b36oL"
      },
      "source": [
        "Then, upload the trained agent to the same directory, and set the corresponding variable to True."
      ]
    },
    {
      "cell_type": "code",
      "execution_count": 3,
      "metadata": {
        "id": "Z_mVZM4IIa55"
      },
      "outputs": [],
      "source": [
        "if_using_a2c = True\n",
        "if_using_ddpg = True\n",
        "if_using_ppo = True\n",
        "if_using_td3 = True\n",
        "if_using_sac = True"
      ]
    },
    {
      "cell_type": "markdown",
      "metadata": {
        "id": "73D4oRqAIkYj"
      },
      "source": [
        "Load the agents"
      ]
    },
    {
      "cell_type": "code",
      "execution_count": 5,
      "metadata": {
        "id": "6CagrX0I36ZN"
      },
      "outputs": [],
      "source": [
        "trained_a2c = A2C.load(TRAINED_MODEL_DIR + \"/agent_a2c\", device='cpu') if if_using_a2c else None\n",
        "trained_ddpg = DDPG.load(TRAINED_MODEL_DIR + \"/agent_ddpg\") if if_using_ddpg else None\n",
        "trained_ppo = PPO.load(TRAINED_MODEL_DIR + \"/agent_ppo\", device='cpu') if if_using_ppo else None\n",
        "trained_td3 = TD3.load(TRAINED_MODEL_DIR + \"/agent_td3\") if if_using_td3 else None\n",
        "trained_sac = SAC.load(TRAINED_MODEL_DIR + \"/agent_sac\") if if_using_sac else None"
      ]
    },
    {
      "cell_type": "markdown",
      "metadata": {
        "id": "U5mmgQF_h1jQ"
      },
      "source": [
        "### Trading (Out-of-sample Performance)\n",
        "\n",
        "We update periodically in order to take full advantage of the data, e.g., retrain quarterly, monthly or weekly. We also tune the parameters along the way, in this notebook we use the in-sample data from 2009-01 to 2020-07 to tune the parameters once, so there is some alpha decay here as the length of trade date extends. \n",
        "\n",
        "Numerous hyperparameters – e.g. the learning rate, the total number of samples to train on – influence the learning process and are usually determined by testing some variations."
      ]
    },
    {
      "cell_type": "code",
      "execution_count": 3,
      "metadata": {
        "colab": {
          "base_uri": "https://localhost:8080/"
        },
        "id": "4H_w3SaBAkKU",
        "outputId": "fdaed3a7-d3a9-4cde-d194-ee4576057175"
      },
      "outputs": [
        {
          "name": "stdout",
          "output_type": "stream",
          "text": [
            "Stock Dimension: 29, State Space: 291\n"
          ]
        }
      ],
      "source": [
        "stock_dimension = len(trade.tic.unique())\n",
        "state_space = 1 + 2*stock_dimension + len(INDICATORS)*stock_dimension\n",
        "print(f\"Stock Dimension: {stock_dimension}, State Space: {state_space}\")"
      ]
    },
    {
      "cell_type": "code",
      "execution_count": 7,
      "metadata": {
        "id": "nKNmQMqGAknW"
      },
      "outputs": [],
      "source": [
        "buy_cost_list = sell_cost_list = [0.001] * stock_dimension\n",
        "num_stock_shares = [0] * stock_dimension\n",
        "\n",
        "env_kwargs = {\n",
        "    \"hmax\": 100,\n",
        "    \"initial_amount\": 1000000,\n",
        "    \"num_stock_shares\": num_stock_shares,\n",
        "    \"buy_cost_pct\": buy_cost_list,\n",
        "    \"sell_cost_pct\": sell_cost_list,\n",
        "    \"state_space\": state_space,\n",
        "    \"stock_dim\": stock_dimension,\n",
        "    \"tech_indicator_list\": INDICATORS,\n",
        "    \"action_space\": stock_dimension,\n",
        "    \"reward_scaling\": 1e-4\n",
        "}"
      ]
    },
    {
      "cell_type": "code",
      "execution_count": 8,
      "metadata": {
        "id": "cIqoV0GSI52v"
      },
      "outputs": [],
      "source": [
        "e_trade_gym = StockTradingEnv(df = trade, turbulence_threshold = 70,risk_indicator_col='vix', **env_kwargs)\n",
        "env_trade, obs_trade = e_trade_gym.get_sb_env()"
      ]
    },
    {
      "cell_type": "code",
      "execution_count": 9,
      "metadata": {
        "colab": {
          "base_uri": "https://localhost:8080/"
        },
        "id": "lbFchno5j3xs",
        "outputId": "44fffa47-3b47-4e7b-96c2-0a485e9efead"
      },
      "outputs": [
        {
          "name": "stdout",
          "output_type": "stream",
          "text": [
            "hit end!\n"
          ]
        }
      ],
      "source": [
        "df_account_value_a2c, df_actions_a2c = DRLAgent.DRL_prediction(\n",
        "    model=trained_a2c, \n",
        "    environment = e_trade_gym) if if_using_a2c else (None, None)"
      ]
    },
    {
      "cell_type": "code",
      "execution_count": 10,
      "metadata": {
        "id": "JbYljWGjj3pH"
      },
      "outputs": [
        {
          "name": "stdout",
          "output_type": "stream",
          "text": [
            "hit end!\n"
          ]
        }
      ],
      "source": [
        "df_account_value_ddpg, df_actions_ddpg = DRLAgent.DRL_prediction(\n",
        "    model=trained_ddpg, \n",
        "    environment = e_trade_gym) if if_using_ddpg else (None, None)"
      ]
    },
    {
      "cell_type": "code",
      "execution_count": 11,
      "metadata": {
        "id": "74jNP2DBj3hb"
      },
      "outputs": [
        {
          "name": "stdout",
          "output_type": "stream",
          "text": [
            "hit end!\n"
          ]
        }
      ],
      "source": [
        "df_account_value_ppo, df_actions_ppo = DRLAgent.DRL_prediction(\n",
        "    model=trained_ppo, \n",
        "    environment = e_trade_gym) if if_using_ppo else (None, None)"
      ]
    },
    {
      "cell_type": "code",
      "execution_count": 12,
      "metadata": {
        "id": "S7VyGGJPj3SH"
      },
      "outputs": [
        {
          "name": "stdout",
          "output_type": "stream",
          "text": [
            "hit end!\n"
          ]
        }
      ],
      "source": [
        "df_account_value_td3, df_actions_td3 = DRLAgent.DRL_prediction(\n",
        "    model=trained_td3, \n",
        "    environment = e_trade_gym) if if_using_td3 else (None, None)"
      ]
    },
    {
      "cell_type": "code",
      "execution_count": 13,
      "metadata": {
        "colab": {
          "base_uri": "https://localhost:8080/"
        },
        "id": "eLOnL5eYh1jR",
        "outputId": "70e50e24-aed5-49f9-cdd7-de6b9689d9ce"
      },
      "outputs": [
        {
          "name": "stdout",
          "output_type": "stream",
          "text": [
            "hit end!\n"
          ]
        }
      ],
      "source": [
        "df_account_value_sac, df_actions_sac = DRLAgent.DRL_prediction(\n",
        "    model=trained_sac, \n",
        "    environment = e_trade_gym) if if_using_sac else (None, None)"
      ]
    },
    {
      "cell_type": "markdown",
      "metadata": {
        "id": "GcE-t08w6DaW"
      },
      "source": [
        "# Part 3: Mean Variance Optimization"
      ]
    },
    {
      "cell_type": "markdown",
      "metadata": {
        "id": "17TUs71EWj09"
      },
      "source": [
        "Mean Variance optimization is a very classic strategy in portfolio management. Here, we go through the whole process to do the mean variance optimization and add it as a baseline to compare.\n",
        "\n",
        "First, process dataframe to the form for MVO weight calculation."
      ]
    },
    {
      "cell_type": "code",
      "execution_count": 4,
      "metadata": {
        "id": "wungSNOwPwKR"
      },
      "outputs": [],
      "source": [
        "def process_df_for_mvo(df):\n",
        "  df = df.sort_values(['date','tic'],ignore_index=True)[['date','tic','close']]\n",
        "  fst = df\n",
        "  fst = fst.iloc[0:stock_dimension, :]\n",
        "  tic = fst['tic'].tolist()\n",
        "\n",
        "  mvo = pd.DataFrame()\n",
        "\n",
        "  for k in range(len(tic)):\n",
        "    mvo[tic[k]] = 0\n",
        "\n",
        "  for i in range(df.shape[0]//stock_dimension):\n",
        "    n = df\n",
        "    n = n.iloc[i * stock_dimension:(i+1) * stock_dimension, :]\n",
        "    date = n['date'][i*stock_dimension]\n",
        "    mvo.loc[date] = n['close'].tolist()\n",
        "  \n",
        "  return mvo"
      ]
    },
    {
      "cell_type": "markdown",
      "metadata": {
        "id": "SwEwkHJ1d_6u"
      },
      "source": [
        "### Helper functions for mean returns and variance-covariance matrix"
      ]
    },
    {
      "cell_type": "code",
      "execution_count": 5,
      "metadata": {
        "id": "6KvXkpyE8MFq"
      },
      "outputs": [],
      "source": [
        "# Codes in this section partially refer to Dr G A Vijayalakshmi Pai\n",
        "\n",
        "# https://www.kaggle.com/code/vijipai/lesson-5-mean-variance-optimization-of-portfolios/notebook\n",
        "\n",
        "def StockReturnsComputing(StockPrice, Rows, Columns): \n",
        "  import numpy as np \n",
        "  StockReturn = np.zeros([Rows-1, Columns]) \n",
        "  for j in range(Columns):        # j: Assets \n",
        "    for i in range(Rows-1):     # i: Daily Prices \n",
        "      StockReturn[i,j]=((StockPrice[i+1, j]-StockPrice[i,j])/StockPrice[i,j])* 100 \n",
        "      \n",
        "  return StockReturn\n"
      ]
    },
    {
      "cell_type": "markdown",
      "metadata": {
        "id": "IeVVbuwveJ_5"
      },
      "source": [
        "### Calculate the weights for mean-variance"
      ]
    },
    {
      "cell_type": "code",
      "execution_count": 6,
      "metadata": {
        "colab": {
          "base_uri": "https://localhost:8080/"
        },
        "id": "kE8nruKLQYLO",
        "outputId": "42d07c80-f309-49f8-f2b4-36a51987086f"
      },
      "outputs": [
        {
          "data": {
            "text/plain": [
              "array([[ 88.60106659, 220.26593018,  88.49398041, ...,  40.97863007,\n",
              "         31.70895386,  37.23957062],\n",
              "       [ 88.60106659, 222.95968628,  88.75745392, ...,  41.06857681,\n",
              "         32.56217957,  37.09022903],\n",
              "       [ 90.97116852, 221.24154663,  90.87452698, ...,  41.4058876 ,\n",
              "         33.47745132,  36.99066925],\n",
              "       ...,\n",
              "       [145.87086487, 185.75201416, 174.26461792, ...,  42.10458755,\n",
              "         40.17977905,  47.60856628],\n",
              "       [146.53825378, 186.69134521, 172.96461487, ...,  42.50497055,\n",
              "         39.43691254,  47.1929512 ],\n",
              "       [146.07695007, 184.81262207, 170.17347717, ...,  42.14462662,\n",
              "         38.46547699,  46.80588531]], shape=(335, 29))"
            ]
          },
          "execution_count": 6,
          "metadata": {},
          "output_type": "execute_result"
        }
      ],
      "source": [
        "StockData = process_df_for_mvo(train)\n",
        "TradeData = process_df_for_mvo(trade)\n",
        "\n",
        "TradeData.to_numpy()"
      ]
    },
    {
      "cell_type": "code",
      "execution_count": 7,
      "metadata": {
        "colab": {
          "base_uri": "https://localhost:8080/"
        },
        "id": "u6_O6vrn_uD4",
        "outputId": "0c2f8bf7-07e7-4fe5-c409-93312b95a8dd"
      },
      "outputs": [
        {
          "name": "stdout",
          "output_type": "stream",
          "text": [
            "Mean returns of assets in k-portfolio 1\n",
            " [0.136 0.068 0.086 0.083 0.066 0.134 0.06  0.035 0.072 0.056 0.103 0.073\n",
            " 0.033 0.076 0.047 0.073 0.042 0.056 0.054 0.056 0.103 0.089 0.041 0.053\n",
            " 0.104 0.11  0.044 0.042 0.042]\n",
            "Variance-Covariance matrix of returns\n",
            " [[3.156 1.066 1.768 1.669 1.722 1.814 1.569 1.302 1.302 1.811 1.303 1.432\n",
            "  1.218 1.674 0.74  1.839 0.719 0.884 1.241 0.823 1.561 1.324 0.752 1.027\n",
            "  1.298 1.466 0.657 1.078 0.631]\n",
            " [1.066 2.571 1.306 1.123 1.193 1.319 1.116 1.053 1.045 1.269 1.068 1.089\n",
            "  0.899 1.218 0.926 1.391 0.682 0.727 1.025 1.156 1.166 0.984 0.798 0.956\n",
            "  1.259 1.111 0.688 1.091 0.682]\n",
            " [1.768 1.306 4.847 2.73  2.6   2.128 1.944 2.141 2.17  3.142 1.932 2.283\n",
            "  1.56  2.012 0.993 3.707 1.094 1.319 1.845 1.236 1.899 1.894 1.041 1.921\n",
            "  1.823 2.314 0.986 1.421 0.707]\n",
            " [1.669 1.123 2.73  4.892 2.363 1.979 1.7   2.115 1.959 2.387 1.773 2.319\n",
            "  1.571 1.797 0.968 2.597 1.144 1.298 1.643 1.071 1.615 1.775 0.91  1.666\n",
            "  1.707 1.784 0.82  1.345 0.647]\n",
            " [1.722 1.193 2.6   2.363 4.019 2.127 1.917 2.059 1.817 2.46  1.577 2.238\n",
            "  1.513 1.929 0.925 2.64  0.947 0.971 1.894 1.089 1.711 1.642 0.865 1.456\n",
            "  1.478 1.687 0.92  1.326 0.697]\n",
            " [1.814 1.319 2.128 1.979 2.127 5.384 1.974 1.549 1.683 2.122 1.624 1.771\n",
            "  1.441 1.939 0.846 2.191 0.837 1.075 1.475 1.041 1.978 1.768 0.784 1.328\n",
            "  1.365 1.912 0.787 1.28  0.666]\n",
            " [1.569 1.116 1.944 1.7   1.917 1.974 3.081 1.483 1.534 1.937 1.367 1.62\n",
            "  1.399 1.843 0.894 2.057 0.794 0.905 1.438 1.014 1.72  1.382 0.865 1.206\n",
            "  1.273 1.488 0.811 1.173 0.753]\n",
            " [1.302 1.053 2.141 2.115 2.059 1.549 1.483 2.842 1.525 2.044 1.428 1.783\n",
            "  1.308 1.533 0.878 2.279 0.938 1.092 1.385 1.078 1.429 1.314 0.831 1.459\n",
            "  1.466 1.48  0.83  1.042 0.567]\n",
            " [1.302 1.045 2.17  1.959 1.817 1.683 1.534 1.525 2.661 1.987 1.454 1.748\n",
            "  1.217 1.475 0.791 2.216 0.896 0.973 1.396 0.949 1.379 1.407 0.859 1.268\n",
            "  1.281 1.454 0.81  1.143 0.667]\n",
            " [1.811 1.269 3.142 2.387 2.46  2.122 1.937 2.044 1.987 4.407 1.789 2.12\n",
            "  1.593 1.982 0.945 3.96  0.956 1.094 1.758 1.157 1.788 1.692 0.905 1.879\n",
            "  1.712 2.    0.945 1.421 0.713]\n",
            " [1.303 1.068 1.932 1.773 1.577 1.624 1.367 1.428 1.454 1.789 2.373 1.51\n",
            "  1.166 1.501 0.756 1.941 0.824 0.998 1.239 0.887 1.366 1.414 0.797 1.299\n",
            "  1.296 1.41  0.764 1.071 0.783]\n",
            " [1.432 1.089 2.283 2.319 2.238 1.771 1.62  1.783 1.748 2.12  1.51  2.517\n",
            "  1.326 1.575 0.889 2.345 0.958 1.022 1.623 1.02  1.489 1.532 0.848 1.377\n",
            "  1.444 1.547 0.81  1.211 0.63 ]\n",
            " [1.218 0.899 1.56  1.571 1.513 1.441 1.399 1.308 1.217 1.593 1.166 1.326\n",
            "  2.052 1.399 0.727 1.749 0.786 0.795 1.154 0.829 1.296 1.12  0.743 1.105\n",
            "  1.088 1.214 0.739 0.998 0.598]\n",
            " [1.674 1.218 2.012 1.797 1.929 1.939 1.843 1.533 1.475 1.982 1.501 1.575\n",
            "  1.399 3.289 0.853 2.112 0.85  0.89  1.412 1.002 1.9   1.352 0.842 1.317\n",
            "  1.334 1.487 0.847 1.165 0.766]\n",
            " [0.74  0.926 0.993 0.968 0.925 0.846 0.894 0.878 0.791 0.945 0.756 0.889\n",
            "  0.727 0.853 1.153 1.027 0.642 0.59  0.848 0.892 0.825 0.748 0.694 0.761\n",
            "  0.929 0.819 0.61  0.806 0.547]\n",
            " [1.839 1.391 3.707 2.597 2.64  2.191 2.057 2.279 2.216 3.96  1.941 2.345\n",
            "  1.749 2.112 1.027 5.271 1.08  1.235 1.892 1.297 1.91  1.85  1.068 2.164\n",
            "  1.85  2.169 1.112 1.555 0.779]\n",
            " [0.719 0.682 1.094 1.144 0.947 0.837 0.794 0.938 0.896 0.956 0.824 0.958\n",
            "  0.786 0.85  0.642 1.08  1.264 0.679 0.804 0.74  0.819 0.845 0.749 0.891\n",
            "  0.849 0.794 0.633 0.719 0.514]\n",
            " [0.884 0.727 1.319 1.298 0.971 1.075 0.905 1.092 0.973 1.094 0.998 1.022\n",
            "  0.795 0.89  0.59  1.235 0.679 1.518 0.816 0.719 0.943 1.027 0.615 1.\n",
            "  0.947 0.994 0.533 0.673 0.504]\n",
            " [1.241 1.025 1.845 1.643 1.894 1.475 1.438 1.385 1.396 1.758 1.239 1.623\n",
            "  1.154 1.412 0.848 1.892 0.804 0.816 2.028 0.9   1.265 1.243 0.787 1.194\n",
            "  1.193 1.282 0.752 1.099 0.622]\n",
            " [0.823 1.156 1.236 1.071 1.089 1.041 1.014 1.078 0.949 1.157 0.887 1.02\n",
            "  0.829 1.002 0.892 1.297 0.74  0.719 0.9   2.007 0.952 0.849 0.732 1.008\n",
            "  1.15  0.933 0.722 0.897 0.614]\n",
            " [1.561 1.166 1.899 1.615 1.711 1.978 1.72  1.429 1.379 1.788 1.366 1.489\n",
            "  1.296 1.9   0.825 1.91  0.819 0.943 1.265 0.952 2.759 1.308 0.832 1.214\n",
            "  1.285 1.493 0.793 1.113 0.705]\n",
            " [1.324 0.984 1.894 1.775 1.642 1.768 1.382 1.314 1.407 1.692 1.414 1.532\n",
            "  1.12  1.352 0.748 1.85  0.845 1.027 1.243 0.849 1.308 2.864 0.751 1.153\n",
            "  1.26  1.411 0.71  1.046 0.651]\n",
            " [0.752 0.798 1.041 0.91  0.865 0.784 0.865 0.831 0.859 0.905 0.797 0.848\n",
            "  0.743 0.842 0.694 1.068 0.749 0.615 0.787 0.732 0.832 0.751 1.289 0.806\n",
            "  0.766 0.763 0.663 0.797 0.645]\n",
            " [1.027 0.956 1.921 1.666 1.456 1.328 1.206 1.459 1.268 1.879 1.299 1.377\n",
            "  1.105 1.317 0.761 2.164 0.891 1.    1.194 1.008 1.214 1.153 0.806 2.27\n",
            "  1.259 1.294 0.812 0.986 0.676]\n",
            " [1.298 1.259 1.823 1.707 1.478 1.365 1.273 1.466 1.281 1.712 1.296 1.444\n",
            "  1.088 1.334 0.929 1.85  0.849 0.947 1.193 1.15  1.285 1.26  0.766 1.259\n",
            "  3.352 1.267 0.697 1.137 0.685]\n",
            " [1.466 1.111 2.314 1.784 1.687 1.912 1.488 1.48  1.454 2.    1.41  1.547\n",
            "  1.214 1.487 0.819 2.169 0.794 0.994 1.282 0.933 1.493 1.411 0.763 1.294\n",
            "  1.267 2.982 0.709 1.007 0.656]\n",
            " [0.657 0.688 0.986 0.82  0.92  0.787 0.811 0.83  0.81  0.945 0.764 0.81\n",
            "  0.739 0.847 0.61  1.112 0.633 0.533 0.752 0.722 0.793 0.71  0.663 0.812\n",
            "  0.697 0.709 1.371 0.697 0.561]\n",
            " [1.078 1.091 1.421 1.345 1.326 1.28  1.173 1.042 1.143 1.421 1.071 1.211\n",
            "  0.998 1.165 0.806 1.555 0.719 0.673 1.099 0.897 1.113 1.046 0.797 0.986\n",
            "  1.137 1.007 0.697 3.073 0.759]\n",
            " [0.631 0.682 0.707 0.647 0.697 0.666 0.753 0.567 0.667 0.713 0.783 0.63\n",
            "  0.598 0.766 0.547 0.779 0.514 0.504 0.622 0.614 0.705 0.651 0.645 0.676\n",
            "  0.685 0.656 0.561 0.759 1.452]]\n"
          ]
        }
      ],
      "source": [
        "#compute asset returns\n",
        "arStockPrices = np.asarray(StockData)\n",
        "[Rows, Cols]=arStockPrices.shape\n",
        "arReturns = StockReturnsComputing(arStockPrices, Rows, Cols)\n",
        "\n",
        "#compute mean returns and variance covariance matrix of returns\n",
        "meanReturns = np.mean(arReturns, axis = 0)\n",
        "covReturns = np.cov(arReturns, rowvar=False)\n",
        " \n",
        "#set precision for printing results\n",
        "np.set_printoptions(precision=3, suppress = True)\n",
        "\n",
        "#display mean returns and variance-covariance matrix of returns\n",
        "print('Mean returns of assets in k-portfolio 1\\n', meanReturns)\n",
        "print('Variance-Covariance matrix of returns\\n', covReturns)"
      ]
    },
    {
      "cell_type": "markdown",
      "metadata": {
        "id": "zC7r-cI8RR1X"
      },
      "source": [
        "### Use PyPortfolioOpt"
      ]
    },
    {
      "cell_type": "code",
      "execution_count": 8,
      "metadata": {
        "colab": {
          "base_uri": "https://localhost:8080/"
        },
        "id": "b1btTONEdCU4",
        "outputId": "75096462-7dfb-4ce6-c6f4-4671f11e79fc"
      },
      "outputs": [
        {
          "data": {
            "text/plain": [
              "array([375400.,      0.,      0.,      0.,      0.,  85810.,      0.,\n",
              "            0.,      0.,      0., 205910.,      0.,      0.,      0.,\n",
              "            0.,      0.,      0.,      0.,      0.,      0.,  49370.,\n",
              "            0.,      0.,      0., 142510., 141010.,      0.,      0.,\n",
              "            0.])"
            ]
          },
          "execution_count": 8,
          "metadata": {},
          "output_type": "execute_result"
        }
      ],
      "source": [
        "from pypfopt.efficient_frontier import EfficientFrontier\n",
        "\n",
        "ef_mean = EfficientFrontier(meanReturns, covReturns, weight_bounds=(0, 0.5))\n",
        "raw_weights_mean = ef_mean.max_sharpe()\n",
        "cleaned_weights_mean = ef_mean.clean_weights()\n",
        "mvo_weights = np.array([1000000 * cleaned_weights_mean[i] for i in range(29)])\n",
        "mvo_weights"
      ]
    },
    {
      "cell_type": "code",
      "execution_count": 10,
      "metadata": {
        "colab": {
          "base_uri": "https://localhost:8080/"
        },
        "id": "F38NJRJJgOmj",
        "outputId": "f575651b-1e9b-4015-ae71-c9fc2c3a3dae"
      },
      "outputs": [
        {
          "data": {
            "text/plain": [
              "array([4228.956,    0.   ,    0.   ,    0.   ,    0.   ,  461.351,\n",
              "          0.   ,    0.   ,    0.   ,    0.   ,  921.393,    0.   ,\n",
              "          0.   ,    0.   ,    0.   ,    0.   ,    0.   ,    0.   ,\n",
              "          0.   ,    0.   ,  252.741,    0.   ,    0.   ,    0.   ,\n",
              "        517.752,  755.136,    0.   ,    0.   ,    0.   ])"
            ]
          },
          "execution_count": 10,
          "metadata": {},
          "output_type": "execute_result"
        }
      ],
      "source": [
        "LastPrice = np.array([1/p for p in StockData.tail(1).to_numpy()[0]])\n",
        "Initial_Portfolio = np.multiply(mvo_weights, LastPrice)\n",
        "Initial_Portfolio"
      ]
    },
    {
      "cell_type": "code",
      "execution_count": 11,
      "metadata": {
        "id": "ZAd1iXqZhQ6X"
      },
      "outputs": [],
      "source": [
        "Portfolio_Assets = TradeData @ Initial_Portfolio\n",
        "MVO_result = pd.DataFrame(Portfolio_Assets, columns=[\"Mean Var\"])\n",
        "# MVO_result"
      ]
    },
    {
      "cell_type": "markdown",
      "metadata": {
        "id": "I5sgGe7g1HsL"
      },
      "source": [
        "# Part 4: DJIA index"
      ]
    },
    {
      "cell_type": "markdown",
      "metadata": {
        "id": "sVe_ufxTY2CW"
      },
      "source": [
        "Add DJIA index as a baseline to compare with."
      ]
    },
    {
      "cell_type": "code",
      "execution_count": 21,
      "metadata": {
        "id": "sACPzsI-6k8q"
      },
      "outputs": [],
      "source": [
        "TRAIN_START_DATE = '2009-01-01'\n",
        "TRAIN_END_DATE = '2020-07-01'\n",
        "TRADE_START_DATE = '2020-07-01'\n",
        "TRADE_END_DATE = '2021-10-29'"
      ]
    },
    {
      "cell_type": "code",
      "execution_count": 22,
      "metadata": {
        "colab": {
          "base_uri": "https://localhost:8080/"
        },
        "id": "TuszW-OB1K0m",
        "outputId": "b89a8350-de58-4fea-8e4b-856efa872712"
      },
      "outputs": [
        {
          "name": "stderr",
          "output_type": "stream",
          "text": [
            "[*********************100%***********************]  1 of 1 completed"
          ]
        },
        {
          "name": "stdout",
          "output_type": "stream",
          "text": [
            "Shape of DataFrame:  (319, 8)\n"
          ]
        },
        {
          "name": "stderr",
          "output_type": "stream",
          "text": [
            "\n"
          ]
        }
      ],
      "source": [
        "df_dji = YahooDownloader(start_date = TRADE_START_DATE,\n",
        "                     end_date = TRADE_END_DATE,\n",
        "                     ticker_list = ['dji']).fetch_data()\n",
        "# df_dji"
      ]
    },
    {
      "cell_type": "code",
      "execution_count": 23,
      "metadata": {
        "id": "Q3RXz72U1VbV"
      },
      "outputs": [],
      "source": [
        "df_dji = df_dji[['date','close']]\n",
        "fst_day = df_dji['close'][0]\n",
        "dji = pd.merge(df_dji['date'], df_dji['close'].div(fst_day).mul(1000000), \n",
        "               how='outer', left_index=True, right_index=True).set_index('date')\n",
        "# dji"
      ]
    },
    {
      "cell_type": "markdown",
      "metadata": {
        "id": "W6vvNSC6h1jZ"
      },
      "source": [
        "<a id='4'></a>\n",
        "# Part 5: Backtesting Results\n",
        "Backtesting plays a key role in evaluating the performance of a trading strategy. Automated backtesting tool is preferred because it reduces the human error. We usually use the Quantopian pyfolio package to backtest our trading strategies. It is easy to use and consists of various individual plots that provide a comprehensive image of the performance of a trading strategy."
      ]
    },
    {
      "cell_type": "code",
      "execution_count": 24,
      "metadata": {
        "id": "KeDeGAc9VrEg"
      },
      "outputs": [
        {
          "name": "stderr",
          "output_type": "stream",
          "text": [
            "/tmp/ipykernel_41945/3895181226.py:14: FutureWarning: DataFrame.fillna with 'method' is deprecated and will raise in a future version. Use obj.ffill() or obj.bfill() instead.\n",
            "  result = pd.merge(result, dji, how='outer', left_index=True, right_index=True).fillna(method='bfill')\n"
          ]
        }
      ],
      "source": [
        "df_result_a2c = df_account_value_a2c.set_index(df_account_value_a2c.columns[0]) if if_using_a2c else None\n",
        "df_result_ddpg = df_account_value_ddpg.set_index(df_account_value_ddpg.columns[0]) if if_using_ddpg else None\n",
        "df_result_ppo = df_account_value_ppo.set_index(df_account_value_ppo.columns[0]) if if_using_ppo else None\n",
        "df_result_td3 = df_account_value_td3.set_index(df_account_value_td3.columns[0]) if if_using_td3 else None\n",
        "df_result_sac = df_account_value_sac.set_index(df_account_value_sac.columns[0]) if if_using_sac else None\n",
        "\n",
        "result = pd.DataFrame()\n",
        "if if_using_a2c: result = pd.merge(result, df_result_a2c, how='outer', left_index=True, right_index=True)\n",
        "if if_using_ddpg: result = pd.merge(result, df_result_ddpg, how='outer', left_index=True, right_index=True, suffixes=('', '_drop'))\n",
        "if if_using_ppo: result = pd.merge(result, df_result_ppo, how='outer', left_index=True, right_index=True, suffixes=('', '_drop'))\n",
        "if if_using_td3: result = pd.merge(result, df_result_td3, how='outer', left_index=True, right_index=True, suffixes=('', '_drop'))\n",
        "if if_using_sac: result = pd.merge(result, df_result_sac, how='outer', left_index=True, right_index=True, suffixes=('', '_drop'))\n",
        "result = pd.merge(result, MVO_result, how='outer', left_index=True, right_index=True)\n",
        "result = pd.merge(result, dji, how='outer', left_index=True, right_index=True).fillna(method='bfill')"
      ]
    },
    {
      "cell_type": "code",
      "execution_count": 25,
      "metadata": {
        "id": "JvlTVQwsiMyx"
      },
      "outputs": [],
      "source": [
        "col_name = []\n",
        "col_name.append('A2C') if if_using_a2c else None\n",
        "col_name.append('DDPG') if if_using_ddpg else None\n",
        "col_name.append('PPO') if if_using_ppo else None\n",
        "col_name.append('TD3') if if_using_td3 else None\n",
        "col_name.append('SAC') if if_using_sac else None\n",
        "col_name.append('Mean Var')\n",
        "col_name.append('djia') \n",
        "result.columns = col_name"
      ]
    },
    {
      "cell_type": "code",
      "execution_count": 27,
      "metadata": {
        "colab": {
          "base_uri": "https://localhost:8080/",
          "height": 455
        },
        "id": "l4FZxyDt3XaE",
        "outputId": "2e739637-bf88-4698-9cf1-9a526452e465"
      },
      "outputs": [
        {
          "data": {
            "application/vnd.microsoft.datawrangler.viewer.v0+json": {
              "columns": [
                {
                  "name": "date",
                  "rawType": "object",
                  "type": "string"
                },
                {
                  "name": "A2C",
                  "rawType": "float64",
                  "type": "float"
                },
                {
                  "name": "DDPG",
                  "rawType": "float64",
                  "type": "float"
                },
                {
                  "name": "PPO",
                  "rawType": "float64",
                  "type": "float"
                },
                {
                  "name": "TD3",
                  "rawType": "float64",
                  "type": "float"
                },
                {
                  "name": "SAC",
                  "rawType": "float64",
                  "type": "float"
                },
                {
                  "name": "Mean Var",
                  "rawType": "float64",
                  "type": "float"
                },
                {
                  "name": "djia",
                  "rawType": "float64",
                  "type": "float"
                }
              ],
              "conversionMethod": "pd.DataFrame",
              "ref": "92f571d9-9b76-4fad-a11b-cf1f57e56e31",
              "rows": [
                [
                  "2020-07-01",
                  "1000000.0",
                  "1000000.0",
                  "1000000.0",
                  "1000000.0",
                  "1000000.0",
                  "1001526.1776198074",
                  "1000000.0"
                ],
                [
                  "2020-07-02",
                  "1000774.770362938",
                  "1000480.3719127654",
                  "1000126.3703584443",
                  "1000482.4497509",
                  "1000774.0734498904",
                  "1004121.1455745747",
                  "1021449.3879930056"
                ],
                [
                  "2020-07-06",
                  "1005856.5440838586",
                  "1004381.8650993346",
                  "1001480.640155327",
                  "1005494.8497486112",
                  "1005724.1978196414",
                  "1022185.834191687",
                  "1021449.3879930056"
                ],
                [
                  "2020-07-07",
                  "997177.5319250642",
                  "998351.8908992766",
                  "999224.0583469202",
                  "999183.2768867491",
                  "995697.1205124668",
                  "1012400.5332998744",
                  "1006030.6671361958"
                ],
                [
                  "2020-07-08",
                  "1001304.4108271066",
                  "1002210.4243793486",
                  "1000304.7100596658",
                  "1002532.9317657469",
                  "998666.9538397295",
                  "1027187.6272860969",
                  "1012912.4064989315"
                ],
                [
                  "2020-07-09",
                  "990297.8061519242",
                  "995772.5870418546",
                  "996170.882025715",
                  "992424.9733306882",
                  "985768.4797544864",
                  "1022886.2801036942",
                  "998877.0005585778"
                ],
                [
                  "2020-07-10",
                  "1001965.7508918305",
                  "1003494.6554382322",
                  "997141.1600281944",
                  "1003103.0575790401",
                  "999448.0148151171",
                  "1024615.3078033469",
                  "1013223.2671944823"
                ],
                [
                  "2020-07-13",
                  "996455.2167795105",
                  "1005028.6042892454",
                  "1001224.6796674348",
                  "1001860.8008777614",
                  "1000840.4244908335",
                  "1017482.340257424",
                  "1013631.2718573925"
                ],
                [
                  "2020-07-14",
                  "1015800.8167112122",
                  "1022331.5744187506",
                  "1010271.6303897552",
                  "1023364.2323179203",
                  "1023507.6247548106",
                  "1038973.6658591258",
                  "1035267.130731494"
                ],
                [
                  "2020-07-15",
                  "1029787.2534787445",
                  "1023816.2047594335",
                  "1009343.6951017648",
                  "1028115.2405696751",
                  "1035635.839852177",
                  "1041181.3769408055",
                  "1044107.2317612201"
                ],
                [
                  "2020-07-16",
                  "1017679.6412060319",
                  "1023240.0307558324",
                  "1010477.8708076286",
                  "1027256.2921320072",
                  "1029835.4789873126",
                  "1033542.1510992876",
                  "1038845.8993102778"
                ],
                [
                  "2020-07-17",
                  "1012708.9987881242",
                  "1023635.7786920812",
                  "1009887.5872361753",
                  "1029373.1041405064",
                  "1028765.7184816364",
                  "1036278.6146994949",
                  "1036405.6883864388"
                ],
                [
                  "2020-07-20",
                  "1014561.5070049821",
                  "1028940.7620180395",
                  "1007826.7466911201",
                  "1029478.203242252",
                  "1029097.2784772876",
                  "1050909.9426583552",
                  "1036755.4066689333"
                ],
                [
                  "2020-07-21",
                  "1023157.8962261735",
                  "1026486.1679399755",
                  "1009080.8010487803",
                  "1033675.6742359577",
                  "1033693.8581434253",
                  "1043859.5728028035",
                  "1042953.1917864776"
                ],
                [
                  "2020-07-22",
                  "1028983.018258339",
                  "1027876.6137674596",
                  "1013253.6986129264",
                  "1044301.654683765",
                  "1035157.8605733875",
                  "1050713.551881224",
                  "1049380.2518457354"
                ],
                [
                  "2020-07-23",
                  "1017151.5194790422",
                  "1012410.554387882",
                  "1004379.8039498348",
                  "1039854.6349191089",
                  "1025503.3639379505",
                  "1025016.9143446712",
                  "1035644.0948610841"
                ],
                [
                  "2020-07-24",
                  "1010635.953881508",
                  "998986.3986337926",
                  "1000879.4886194",
                  "1035059.5723657032",
                  "1013737.0005308155",
                  "1022261.7806582276",
                  "1028556.4558237807"
                ],
                [
                  "2020-07-27",
                  "1014897.8332378922",
                  "1003495.5416162756",
                  "1002166.3415970859",
                  "1042378.9580354114",
                  "1017594.3463426593",
                  "1035007.9871648761",
                  "1033021.2077423742"
                ],
                [
                  "2020-07-28",
                  "1006566.4518368302",
                  "1004019.3899172094",
                  "997385.7314506702",
                  "1029866.6882180591",
                  "1014177.1055475238",
                  "1026243.7447830961",
                  "1025035.9736254129"
                ],
                [
                  "2020-07-29",
                  "1011585.1985790788",
                  "1006094.1443842199",
                  "1009611.9493112658",
                  "1036023.3947915455",
                  "1014340.3436590198",
                  "1040073.9953275954",
                  "1031264.7992762773"
                ],
                [
                  "2020-07-30",
                  "995994.1224377214",
                  "1001588.0346277502",
                  "1003266.2424444827",
                  "1026251.0396928211",
                  "1002646.5009103778",
                  "1041250.0286884615",
                  "1022482.9846269672"
                ],
                [
                  "2020-07-31",
                  "989334.1489651261",
                  "999909.7606867101",
                  "1006246.8856511706",
                  "1020945.2348832508",
                  "993172.2223268512",
                  "1079883.0898725204",
                  "1026939.9953856615"
                ],
                [
                  "2020-08-03",
                  "1003234.5081951676",
                  "1012725.5231340673",
                  "1011752.9873144473",
                  "1028501.7976769825",
                  "999797.640020943",
                  "1098701.5631260253",
                  "1036114.2564843597"
                ],
                [
                  "2020-08-04",
                  "1004827.4387295304",
                  "1014354.8627603796",
                  "1015995.8295374927",
                  "1038106.1734284778",
                  "1001231.557453728",
                  "1103079.4287794614",
                  "1042490.7713231009"
                ],
                [
                  "2020-08-05",
                  "1023067.805077797",
                  "1026254.6622064855",
                  "1035893.5928557987",
                  "1044099.3047227283",
                  "1014876.7374921802",
                  "1111505.850926098",
                  "1056984.651253157"
                ],
                [
                  "2020-08-06",
                  "1026346.110093361",
                  "1031402.1041849401",
                  "1044870.0947427844",
                  "1052273.5998238942",
                  "1015275.4632680743",
                  "1134769.136819495",
                  "1064192.7336312416"
                ],
                [
                  "2020-08-07",
                  "1025894.3593456803",
                  "1033320.3480585363",
                  "1048091.984108797",
                  "1053190.523819866",
                  "1020591.1823890536",
                  "1121624.9555015014",
                  "1065999.6114241306"
                ],
                [
                  "2020-08-10",
                  "1043177.6008770524",
                  "1033309.5558145788",
                  "1057479.547289812",
                  "1062661.3436173818",
                  "1035286.168439606",
                  "1129330.365515713",
                  "1079906.7569700798"
                ],
                [
                  "2020-08-11",
                  "1042548.1375362931",
                  "1025477.4930742529",
                  "1048113.9804452724",
                  "1057623.4248437306",
                  "1036465.6997784084",
                  "1111112.6206940967",
                  "1075846.139134447"
                ],
                [
                  "2020-08-12",
                  "1047741.9651424943",
                  "1043559.5690515783",
                  "1065406.605060644",
                  "1064730.8943147084",
                  "1044733.9484486202",
                  "1137229.3333464917",
                  "1087110.9687682146"
                ],
                [
                  "2020-08-13",
                  "1044428.5506146012",
                  "1038487.04981406",
                  "1065828.5711533146",
                  "1062812.9525079152",
                  "1039277.5158915676",
                  "1145586.7900550067",
                  "1083998.4153390324"
                ],
                [
                  "2020-08-14",
                  "1046487.1861813127",
                  "1040378.7735842016",
                  "1069279.9356163691",
                  "1063587.9827584645",
                  "1039130.6433837436",
                  "1143896.808601326",
                  "1085331.2609286963"
                ],
                [
                  "2020-08-17",
                  "1042026.2571346818",
                  "1038463.1308344152",
                  "1063633.4083355921",
                  "1065693.063282909",
                  "1040890.1868569034",
                  "1151316.1901797976",
                  "1081985.6378715758"
                ],
                [
                  "2020-08-18",
                  "1039985.4441998063",
                  "1034906.0062921789",
                  "1059864.980737503",
                  "1073279.946412029",
                  "1036306.9461446536",
                  "1154119.9237134433",
                  "1079389.9207062367"
                ],
                [
                  "2020-08-19",
                  "1039643.6316082536",
                  "1031047.796247318",
                  "1058283.9577576788",
                  "1069229.416989269",
                  "1036974.5350329136",
                  "1153917.5846152909",
                  "1076079.2846561102"
                ],
                [
                  "2020-08-20",
                  "1043491.0866024552",
                  "1031596.7902506139",
                  "1060127.7570103148",
                  "1071628.843274059",
                  "1037802.5707329715",
                  "1167225.575037138",
                  "1077897.7741888477"
                ],
                [
                  "2020-08-21",
                  "1045405.5564053117",
                  "1031057.0632799413",
                  "1068690.3701578903",
                  "1074118.9427422902",
                  "1039926.936274216",
                  "1193545.6868165077",
                  "1085304.0909753256"
                ],
                [
                  "2020-08-24",
                  "1065116.3391430436",
                  "1034232.4672258642",
                  "1066776.2854941862",
                  "1084547.371891918",
                  "1055319.7070309261",
                  "1202268.019716665",
                  "1100000.0"
                ],
                [
                  "2020-08-25",
                  "1063890.5062954484",
                  "1044620.5691202428",
                  "1073471.0045070017",
                  "1088168.3914613149",
                  "1060894.8586681178",
                  "1204522.1066245493",
                  "1097664.6742034196"
                ],
                [
                  "2020-08-26",
                  "1066156.8679745256",
                  "1048288.9524896886",
                  "1085770.0013683909",
                  "1128717.451538982",
                  "1065946.2276530268",
                  "1243139.408777012",
                  "1100909.282713231"
                ],
                [
                  "2020-08-27",
                  "1078369.9376995622",
                  "1060182.4125726966",
                  "1092282.8069668713",
                  "1132391.1223992726",
                  "1072384.6525429958",
                  "1239282.6549096326",
                  "1107142.0548377696"
                ],
                [
                  "2020-08-28",
                  "1089049.3827068864",
                  "1065559.0971849707",
                  "1098381.9990261667",
                  "1135199.0670365712",
                  "1078616.2636239056",
                  "1239425.6521134225",
                  "1113421.425709151"
                ],
                [
                  "2020-08-31",
                  "1076431.9528210221",
                  "1057069.870530918",
                  "1096104.552513422",
                  "1130430.2379044911",
                  "1069417.3628158267",
                  "1252140.4447441653",
                  "1104721.196813678"
                ],
                [
                  "2020-09-01",
                  "1086774.563645607",
                  "1059968.1258295325",
                  "1105147.3257860546",
                  "1135623.8232316396",
                  "1072317.492744431",
                  "1279568.101120917",
                  "1113102.7479599766"
                ],
                [
                  "2020-09-02",
                  "1104026.0112164079",
                  "1084109.8690279273",
                  "1119273.1682321376",
                  "1151557.1559228322",
                  "1091543.5312123722",
                  "1275229.7084401208",
                  "1130775.2088595298"
                ],
                [
                  "2020-09-03",
                  "1070845.194329506",
                  "1056113.5121095923",
                  "1087666.2550467968",
                  "1128191.7071313283",
                  "1059692.120852173",
                  "1205187.2890828224",
                  "1099386.0197687976"
                ],
                [
                  "2020-09-04",
                  "1068163.772996193",
                  "1050358.2674501685",
                  "1075594.862150028",
                  "1116747.611607494",
                  "1052989.6726977236",
                  "1190758.6398765142",
                  "1093192.1811249272"
                ],
                [
                  "2020-09-08",
                  "1038445.0772335588",
                  "1025842.3372591283",
                  "1047358.0784145945",
                  "1100049.1311883351",
                  "1035748.2038885959",
                  "1142277.1486542798",
                  "1068618.627962891"
                ],
                [
                  "2020-09-09",
                  "1057437.225251442",
                  "1040728.1713083532",
                  "1067826.220255537",
                  "1117818.7127961537",
                  "1054566.3785635836",
                  "1178741.8412713378",
                  "1085700.4080046627"
                ],
                [
                  "2020-09-10",
                  "1039453.0740444718",
                  "1022821.7696436193",
                  "1045324.7547861728",
                  "1107317.5182179867",
                  "1039497.0024306186",
                  "1151290.360959684",
                  "1069928.098285409"
                ]
              ],
              "shape": {
                "columns": 7,
                "rows": 336
              }
            },
            "text/html": [
              "<div>\n",
              "<style scoped>\n",
              "    .dataframe tbody tr th:only-of-type {\n",
              "        vertical-align: middle;\n",
              "    }\n",
              "\n",
              "    .dataframe tbody tr th {\n",
              "        vertical-align: top;\n",
              "    }\n",
              "\n",
              "    .dataframe thead th {\n",
              "        text-align: right;\n",
              "    }\n",
              "</style>\n",
              "<table border=\"1\" class=\"dataframe\">\n",
              "  <thead>\n",
              "    <tr style=\"text-align: right;\">\n",
              "      <th></th>\n",
              "      <th>A2C</th>\n",
              "      <th>DDPG</th>\n",
              "      <th>PPO</th>\n",
              "      <th>TD3</th>\n",
              "      <th>SAC</th>\n",
              "      <th>Mean Var</th>\n",
              "      <th>djia</th>\n",
              "    </tr>\n",
              "    <tr>\n",
              "      <th>date</th>\n",
              "      <th></th>\n",
              "      <th></th>\n",
              "      <th></th>\n",
              "      <th></th>\n",
              "      <th></th>\n",
              "      <th></th>\n",
              "      <th></th>\n",
              "    </tr>\n",
              "  </thead>\n",
              "  <tbody>\n",
              "    <tr>\n",
              "      <th>2020-07-01</th>\n",
              "      <td>1.000000e+06</td>\n",
              "      <td>1.000000e+06</td>\n",
              "      <td>1.000000e+06</td>\n",
              "      <td>1.000000e+06</td>\n",
              "      <td>1.000000e+06</td>\n",
              "      <td>1.001526e+06</td>\n",
              "      <td>1.000000e+06</td>\n",
              "    </tr>\n",
              "    <tr>\n",
              "      <th>2020-07-02</th>\n",
              "      <td>1.000775e+06</td>\n",
              "      <td>1.000480e+06</td>\n",
              "      <td>1.000126e+06</td>\n",
              "      <td>1.000482e+06</td>\n",
              "      <td>1.000774e+06</td>\n",
              "      <td>1.004121e+06</td>\n",
              "      <td>1.021449e+06</td>\n",
              "    </tr>\n",
              "    <tr>\n",
              "      <th>2020-07-06</th>\n",
              "      <td>1.005857e+06</td>\n",
              "      <td>1.004382e+06</td>\n",
              "      <td>1.001481e+06</td>\n",
              "      <td>1.005495e+06</td>\n",
              "      <td>1.005724e+06</td>\n",
              "      <td>1.022186e+06</td>\n",
              "      <td>1.021449e+06</td>\n",
              "    </tr>\n",
              "    <tr>\n",
              "      <th>2020-07-07</th>\n",
              "      <td>9.971775e+05</td>\n",
              "      <td>9.983519e+05</td>\n",
              "      <td>9.992241e+05</td>\n",
              "      <td>9.991833e+05</td>\n",
              "      <td>9.956971e+05</td>\n",
              "      <td>1.012401e+06</td>\n",
              "      <td>1.006031e+06</td>\n",
              "    </tr>\n",
              "    <tr>\n",
              "      <th>2020-07-08</th>\n",
              "      <td>1.001304e+06</td>\n",
              "      <td>1.002210e+06</td>\n",
              "      <td>1.000305e+06</td>\n",
              "      <td>1.002533e+06</td>\n",
              "      <td>9.986670e+05</td>\n",
              "      <td>1.027188e+06</td>\n",
              "      <td>1.012912e+06</td>\n",
              "    </tr>\n",
              "    <tr>\n",
              "      <th>...</th>\n",
              "      <td>...</td>\n",
              "      <td>...</td>\n",
              "      <td>...</td>\n",
              "      <td>...</td>\n",
              "      <td>...</td>\n",
              "      <td>...</td>\n",
              "      <td>...</td>\n",
              "    </tr>\n",
              "    <tr>\n",
              "      <th>2021-10-22</th>\n",
              "      <td>1.405989e+06</td>\n",
              "      <td>1.371834e+06</td>\n",
              "      <td>1.456324e+06</td>\n",
              "      <td>1.298818e+06</td>\n",
              "      <td>1.363859e+06</td>\n",
              "      <td>1.527207e+06</td>\n",
              "      <td>1.386322e+06</td>\n",
              "    </tr>\n",
              "    <tr>\n",
              "      <th>2021-10-25</th>\n",
              "      <td>1.407379e+06</td>\n",
              "      <td>1.372811e+06</td>\n",
              "      <td>1.462997e+06</td>\n",
              "      <td>1.301101e+06</td>\n",
              "      <td>1.372010e+06</td>\n",
              "      <td>1.533932e+06</td>\n",
              "      <td>1.388813e+06</td>\n",
              "    </tr>\n",
              "    <tr>\n",
              "      <th>2021-10-26</th>\n",
              "      <td>1.403853e+06</td>\n",
              "      <td>1.381072e+06</td>\n",
              "      <td>1.466481e+06</td>\n",
              "      <td>1.300160e+06</td>\n",
              "      <td>1.364266e+06</td>\n",
              "      <td>1.537065e+06</td>\n",
              "      <td>1.389427e+06</td>\n",
              "    </tr>\n",
              "    <tr>\n",
              "      <th>2021-10-27</th>\n",
              "      <td>1.386367e+06</td>\n",
              "      <td>1.378747e+06</td>\n",
              "      <td>1.455251e+06</td>\n",
              "      <td>1.296605e+06</td>\n",
              "      <td>1.323126e+06</td>\n",
              "      <td>1.528607e+06</td>\n",
              "      <td>1.379083e+06</td>\n",
              "    </tr>\n",
              "    <tr>\n",
              "      <th>2021-10-28</th>\n",
              "      <td>NaN</td>\n",
              "      <td>NaN</td>\n",
              "      <td>NaN</td>\n",
              "      <td>NaN</td>\n",
              "      <td>NaN</td>\n",
              "      <td>NaN</td>\n",
              "      <td>1.388401e+06</td>\n",
              "    </tr>\n",
              "  </tbody>\n",
              "</table>\n",
              "<p>336 rows × 7 columns</p>\n",
              "</div>"
            ],
            "text/plain": [
              "                     A2C          DDPG           PPO           TD3  \\\n",
              "date                                                                 \n",
              "2020-07-01  1.000000e+06  1.000000e+06  1.000000e+06  1.000000e+06   \n",
              "2020-07-02  1.000775e+06  1.000480e+06  1.000126e+06  1.000482e+06   \n",
              "2020-07-06  1.005857e+06  1.004382e+06  1.001481e+06  1.005495e+06   \n",
              "2020-07-07  9.971775e+05  9.983519e+05  9.992241e+05  9.991833e+05   \n",
              "2020-07-08  1.001304e+06  1.002210e+06  1.000305e+06  1.002533e+06   \n",
              "...                  ...           ...           ...           ...   \n",
              "2021-10-22  1.405989e+06  1.371834e+06  1.456324e+06  1.298818e+06   \n",
              "2021-10-25  1.407379e+06  1.372811e+06  1.462997e+06  1.301101e+06   \n",
              "2021-10-26  1.403853e+06  1.381072e+06  1.466481e+06  1.300160e+06   \n",
              "2021-10-27  1.386367e+06  1.378747e+06  1.455251e+06  1.296605e+06   \n",
              "2021-10-28           NaN           NaN           NaN           NaN   \n",
              "\n",
              "                     SAC      Mean Var          djia  \n",
              "date                                                  \n",
              "2020-07-01  1.000000e+06  1.001526e+06  1.000000e+06  \n",
              "2020-07-02  1.000774e+06  1.004121e+06  1.021449e+06  \n",
              "2020-07-06  1.005724e+06  1.022186e+06  1.021449e+06  \n",
              "2020-07-07  9.956971e+05  1.012401e+06  1.006031e+06  \n",
              "2020-07-08  9.986670e+05  1.027188e+06  1.012912e+06  \n",
              "...                  ...           ...           ...  \n",
              "2021-10-22  1.363859e+06  1.527207e+06  1.386322e+06  \n",
              "2021-10-25  1.372010e+06  1.533932e+06  1.388813e+06  \n",
              "2021-10-26  1.364266e+06  1.537065e+06  1.389427e+06  \n",
              "2021-10-27  1.323126e+06  1.528607e+06  1.379083e+06  \n",
              "2021-10-28           NaN           NaN  1.388401e+06  \n",
              "\n",
              "[336 rows x 7 columns]"
            ]
          },
          "execution_count": 27,
          "metadata": {},
          "output_type": "execute_result"
        }
      ],
      "source": [
        "result"
      ]
    },
    {
      "cell_type": "markdown",
      "metadata": {
        "id": "QQuc5hI9Yklt"
      },
      "source": [
        "Now, everything is ready, we can plot the backtest result."
      ]
    },
    {
      "cell_type": "code",
      "execution_count": 26,
      "metadata": {
        "colab": {
          "base_uri": "https://localhost:8080/",
          "height": 381
        },
        "id": "6xRfrqK4RVfq",
        "outputId": "469c9729-fd57-417c-9b13-2243426923e2"
      },
      "outputs": [
        {
          "data": {
            "text/plain": [
              "<Axes: xlabel='date'>"
            ]
          },
          "execution_count": 26,
          "metadata": {},
          "output_type": "execute_result"
        },
        {
          "data": {
            "text/plain": [
              "<Figure size 1500x500 with 0 Axes>"
            ]
          },
          "metadata": {},
          "output_type": "display_data"
        },
        {
          "data": {
            "image/png": "[encoded data removed]",
            "text/plain": [
              "<Figure size 1500x500 with 1 Axes>"
            ]
          },
          "metadata": {},
          "output_type": "display_data"
        }
      ],
      "source": [
        "plt.rcParams[\"figure.figsize\"] = (15,5)\n",
        "plt.figure()\n",
        "result.plot()"
      ]
    }
  ],
  "metadata": {
    "colab": {
      "collapsed_sections": [
        "GfZ5vY5wRjkJ"
      ],
      "provenance": []
    },
    "kernelspec": {
      "display_name": "finrl-env",
      "language": "python",
      "name": "python3"
    },
    "language_info": {
      "codemirror_mode": {
        "name": "ipython",
        "version": 3
      },
      "file_extension": ".py",
      "mimetype": "text/x-python",
      "name": "python",
      "nbconvert_exporter": "python",
      "pygments_lexer": "ipython3",
      "version": "3.10.16"
    }
  },
  "nbformat": 4,
  "nbformat_minor": 0
}
